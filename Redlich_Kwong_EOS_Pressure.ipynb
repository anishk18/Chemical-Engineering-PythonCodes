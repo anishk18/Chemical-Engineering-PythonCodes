{
 "cells": [
  {
   "cell_type": "code",
   "execution_count": 1,
   "id": "37c977b0-9535-4811-bf38-8d6a6ad61f82",
   "metadata": {
    "tags": []
   },
   "outputs": [
    {
     "name": "stdout",
     "output_type": "stream",
     "text": [
      "The ideal gas pressure: 831878.2500000001 Pa\n",
      "The Redlich-Kwong pressure: 833293.2754200537 Pa\n"
     ]
    }
   ],
   "source": [
    "# computing  Pressure from Ideal Gas law and Redlich-Kwong EOS (non ideal gas)\n",
    "R = 0.0821  # L-atm/K\n",
    "T = 500     # K\n",
    "V = 5       # L/mol\n",
    "Pc = 37.2   # atm\n",
    "Tc = 132.5  # K\n",
    "\n",
    "a = 0.427 * pow(R,2) * pow(Tc,2.5) / Pc\n",
    "b = 0.0866 * R * Tc / Pc\n",
    "\n",
    "# Compute in atm\n",
    "P_ig = R * T / V\n",
    "P_rk = R * T / (V-b) - a/(V*(V+b)*pow(T,0.5))\n",
    "\n",
    "# Convert to Pascals\n",
    "P_ig = P_ig * 101325\n",
    "P_rk = P_rk * 101325\n",
    "\n",
    "print(\"The ideal gas pressure: \" + str(P_ig) + \" Pa\")\n",
    "print(\"The Redlich-Kwong pressure: \" + str(P_rk) + \" Pa\")\n"
   ]
  },
  {
   "cell_type": "code",
   "execution_count": null,
   "id": "fe6b78f7-9316-409b-adb4-a3a730d2dd5a",
   "metadata": {},
   "outputs": [],
   "source": []
  }
 ],
 "metadata": {
  "kernelspec": {
   "display_name": "Python 3 (ipykernel)",
   "language": "python",
   "name": "python3"
  },
  "language_info": {
   "codemirror_mode": {
    "name": "ipython",
    "version": 3
   },
   "file_extension": ".py",
   "mimetype": "text/x-python",
   "name": "python",
   "nbconvert_exporter": "python",
   "pygments_lexer": "ipython3",
   "version": "3.11.5"
  }
 },
 "nbformat": 4,
 "nbformat_minor": 5
}
